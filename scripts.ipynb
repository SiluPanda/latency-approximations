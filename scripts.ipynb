import numpy as np
from typing import *

def generate_random_sample(sample_size: int, low: int, high: int) -> List[float]:
    return list(np.random.randint(low, high, sample_size))


