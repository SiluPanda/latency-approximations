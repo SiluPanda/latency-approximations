{
 "cells": [
  {
   "cell_type": "code",
   "execution_count": 1,
   "metadata": {},
   "outputs": [],
   "source": [
    "import numpy as np\n",
    "from typing import *\n",
    "import random"
   ]
  },
  {
   "cell_type": "code",
   "execution_count": 2,
   "metadata": {},
   "outputs": [],
   "source": [
    "def generate_random_sample(sample_size: int, low: int, high: int) -> List[int]:\n",
    "    return list(np.random.randint(low=low, high=high, size=sample_size))"
   ]
  },
  {
   "cell_type": "code",
   "execution_count": 7,
   "metadata": {},
   "outputs": [],
   "source": [
    "def divide_sample(sample: List[int], partition_percentage: int) -> Tuple[List[int], List[int]]:\n",
    "    random.shuffle(sample)\n",
    "    partition_index = (len(sample) * partition_percentage) // 100\n",
    "    if partition_index >= len(sample):\n",
    "        raise ValueError(\"Partition percentage can not be more than 100\")\n",
    "    return sample[:partition_index], sample[partition_index:]"
   ]
  },
  {
   "cell_type": "code",
   "execution_count": null,
   "metadata": {},
   "outputs": [],
   "source": [
    "def calculate_pxx_naive(sample: List[int], percentile: int) -> int:\n",
    "    sample.sort()\n",
    "    target_index = (len(sample) * percentile) // 100\n",
    "    if target_index >= len(sample):\n",
    "        raise ValueError(\"Percentile value can not be more than 100\")\n",
    "    return sample[target_index]"
   ]
  },
  {
   "cell_type": "code",
   "execution_count": 6,
   "metadata": {},
   "outputs": [
    {
     "data": {
      "text/plain": [
       "[252,\n",
       " 221,\n",
       " 924,\n",
       " 844,\n",
       " 886,\n",
       " 597,\n",
       " 750,\n",
       " 373,\n",
       " 667,\n",
       " 188,\n",
       " 258,\n",
       " 714,\n",
       " 576,\n",
       " 461,\n",
       " 930,\n",
       " 746,\n",
       " 776,\n",
       " 501,\n",
       " 107,\n",
       " 36]"
      ]
     },
     "execution_count": 6,
     "metadata": {},
     "output_type": "execute_result"
    }
   ],
   "source": [
    "samgenerate_random_sample(100000, 1, 1000)"
   ]
  }
 ],
 "metadata": {
  "interpreter": {
   "hash": "384eccdf10b975322b0c8dfad62ef9f66d7927d6252569c8d356d3ba7d1535d5"
  },
  "kernelspec": {
   "display_name": "Python 3.9.12 ('venv': venv)",
   "language": "python",
   "name": "python3"
  },
  "language_info": {
   "codemirror_mode": {
    "name": "ipython",
    "version": 3
   },
   "file_extension": ".py",
   "mimetype": "text/x-python",
   "name": "python",
   "nbconvert_exporter": "python",
   "pygments_lexer": "ipython3",
   "version": "3.9.12"
  },
  "orig_nbformat": 4
 },
 "nbformat": 4,
 "nbformat_minor": 2
}
