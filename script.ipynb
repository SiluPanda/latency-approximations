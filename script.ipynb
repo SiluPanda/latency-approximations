{
 "cells": [
  {
   "cell_type": "code",
   "execution_count": 74,
   "metadata": {},
   "outputs": [
    {
     "name": "stderr",
     "output_type": "stream",
     "text": [
      "Fontconfig warning: ignoring UTF-8: not a valid region tag\n"
     ]
    }
   ],
   "source": [
    "import numpy as np\n",
    "from typing import *\n",
    "import random\n",
    "from scipy.stats import truncnorm\n",
    "import matplotlib.pyplot as plt"
   ]
  },
  {
   "cell_type": "code",
   "execution_count": 65,
   "metadata": {},
   "outputs": [],
   "source": [
    "def generate_random_sample_uniform(sample_size: int, low: int, high: int) -> List[int]:\n",
    "    return list(np.random.randint(low=low, high=high, size=sample_size))"
   ]
  },
  {
   "cell_type": "code",
   "execution_count": 66,
   "metadata": {},
   "outputs": [],
   "source": [
    "def get_truncated_normal(mean: float=0, std: float=1, low: int=0, high: int=10000):\n",
    "    return truncnorm((low - mean) / std, (high - mean) / std, loc=mean, scale=std)"
   ]
  },
  {
   "cell_type": "code",
   "execution_count": 67,
   "metadata": {},
   "outputs": [],
   "source": [
    "def generate_random_sample_normal(sample_size: int, low: int, high: int, standard_deviation) -> List[int]:\n",
    "    return get_truncated_normal(mean=(low + high) / 2, std=standard_deviation, low=low, high=high).rvs(sample_size)"
   ]
  },
  {
   "cell_type": "code",
   "execution_count": 68,
   "metadata": {},
   "outputs": [],
   "source": [
    "def divide_sample(sample: List[int], partition_percentage: int) -> Tuple[List[int], List[int]]:\n",
    "    random.shuffle(sample)\n",
    "    partition_index = (len(sample) * partition_percentage) // 100\n",
    "    if partition_index >= len(sample):\n",
    "        raise ValueError(\"Partition percentage can not be more than 100\")\n",
    "    return sample[:partition_index], sample[partition_index:]"
   ]
  },
  {
   "cell_type": "code",
   "execution_count": 69,
   "metadata": {},
   "outputs": [],
   "source": [
    "def calculate_pxx_naive(sample: List[int], percentile: int) -> int:\n",
    "    sample.sort()\n",
    "    target_index = (len(sample) * percentile) // 100\n",
    "    if target_index >= len(sample):\n",
    "        raise ValueError(\"Percentile value can not be more than 100\")\n",
    "    return sample[target_index]"
   ]
  },
  {
   "cell_type": "code",
   "execution_count": 78,
   "metadata": {},
   "outputs": [],
   "source": [
    "# Generate a sample of 100000 points between 1, 10000, take 5% of it in small, and rest in large list\n",
    "\n",
    "small, large = divide_sample(generate_random_sample_normal(100000, 1, 10000, 1000), 5)\n",
    "\n"
   ]
  },
  {
   "cell_type": "code",
   "execution_count": 79,
   "metadata": {},
   "outputs": [
    {
     "data": {
      "text/plain": [
       "(array([  13.,   84.,  328.,  784., 1323., 1236.,  833.,  315.,   74.,\n",
       "          10.]),\n",
       " array([1529.84985939, 2226.86732857, 2923.88479774, 3620.90226692,\n",
       "        4317.9197361 , 5014.93720528, 5711.95467445, 6408.97214363,\n",
       "        7105.98961281, 7803.00708199, 8500.02455116]),\n",
       " <BarContainer object of 10 artists>)"
      ]
     },
     "execution_count": 79,
     "metadata": {},
     "output_type": "execute_result"
    },
    {
     "data": {
      "image/png": "[encoded data removed]",
      "text/plain": [
       "<Figure size 432x288 with 1 Axes>"
      ]
     },
     "metadata": {
      "needs_background": "light"
     },
     "output_type": "display_data"
    }
   ],
   "source": [
    "plt.hist(small)\n"
   ]
  },
  {
   "cell_type": "code",
   "execution_count": 80,
   "metadata": {},
   "outputs": [
    {
     "data": {
      "text/plain": [
       "(array([1.8000e+01, 3.3100e+02, 3.1280e+03, 1.3431e+04, 2.8687e+04,\n",
       "        3.0024e+04, 1.5044e+04, 3.8240e+03, 4.9000e+02, 2.3000e+01]),\n",
       " array([ 594.85833773, 1466.39883245, 2337.93932718, 3209.4798219 ,\n",
       "        4081.02031662, 4952.56081135, 5824.10130607, 6695.64180079,\n",
       "        7567.18229552, 8438.72279024, 9310.26328497]),\n",
       " <BarContainer object of 10 artists>)"
      ]
     },
     "execution_count": 80,
     "metadata": {},
     "output_type": "execute_result"
    },
    {
     "data": {
      "image/png": "[encoded data removed]",
      "text/plain": [
       "<Figure size 432x288 with 1 Axes>"
      ]
     },
     "metadata": {
      "needs_background": "light"
     },
     "output_type": "display_data"
    }
   ],
   "source": [
    "plt.hist(large)\n"
   ]
  },
  {
   "cell_type": "code",
   "execution_count": 81,
   "metadata": {},
   "outputs": [
    {
     "name": "stdout",
     "output_type": "stream",
     "text": [
      "p99 of small sample: 7292.180796780254 and large sample: 7335.001026032647\n"
     ]
    }
   ],
   "source": [
    "print(f'p99 of small sample: {calculate_pxx_naive(small, 99)} and large sample: {calculate_pxx_naive(large, 99)}')"
   ]
  }
 ],
 "metadata": {
  "interpreter": {
   "hash": "384eccdf10b975322b0c8dfad62ef9f66d7927d6252569c8d356d3ba7d1535d5"
  },
  "kernelspec": {
   "display_name": "Python 3.9.12 ('venv': venv)",
   "language": "python",
   "name": "python3"
  },
  "language_info": {
   "codemirror_mode": {
    "name": "ipython",
    "version": 3
   },
   "file_extension": ".py",
   "mimetype": "text/x-python",
   "name": "python",
   "nbconvert_exporter": "python",
   "pygments_lexer": "ipython3",
   "version": "3.9.12"
  },
  "orig_nbformat": 4
 },
 "nbformat": 4,
 "nbformat_minor": 2
}
